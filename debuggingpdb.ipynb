{
 "cells": [
  {
   "cell_type": "code",
   "execution_count": 14,
   "metadata": {
    "editable": true,
    "id": "aOUUomFumgrM",
    "slideshow": {
     "slide_type": ""
    },
    "tags": []
   },
   "outputs": [],
   "source": [
    "# foo.py\n",
    "\n",
    "import pdb\n",
    "\n",
    "\n",
    "def add(a, b):\n",
    "    pdb.set_trace()\n",
    "    return a + b"
   ]
  },
  {
   "cell_type": "code",
   "execution_count": 15,
   "metadata": {
    "id": "6wHQ-t3Gmza3"
   },
   "outputs": [],
   "source": [
    "def process(data):\n",
    "    for value in data:\n",
    "        pdb.set_trace()\n",
    "        print(add(value, 2))"
   ]
  },
  {
   "cell_type": "code",
   "execution_count": 16,
   "metadata": {
    "id": "pCVfDeAtm4XZ"
   },
   "outputs": [],
   "source": [
    "def main():\n",
    "    data = [\"1\", 2, 3]\n",
    "    pdb.set_trace()\n",
    "    process(data)"
   ]
  },
  {
   "cell_type": "code",
   "execution_count": null,
   "metadata": {
    "id": "hfAmToGMm6qg"
   },
   "outputs": [],
   "source": [
    "%pdb\n",
    "pdb.set_trace()\n",
    "main()"
   ]
  }
 ],
 "metadata": {
  "colab": {
   "provenance": []
  },
  "kernelspec": {
   "display_name": ".venv",
   "language": "python",
   "name": "python3"
  },
  "language_info": {
   "codemirror_mode": {
    "name": "ipython",
    "version": 3
   },
   "file_extension": ".py",
   "mimetype": "text/x-python",
   "name": "python",
   "nbconvert_exporter": "python",
   "pygments_lexer": "ipython3",
   "version": "3.11.8"
  }
 },
 "nbformat": 4,
 "nbformat_minor": 4
}
