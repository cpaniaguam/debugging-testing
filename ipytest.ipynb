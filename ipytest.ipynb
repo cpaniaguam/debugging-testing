{
 "cells": [
  {
   "cell_type": "code",
   "execution_count": null,
   "id": "df401991-62d0-4bf5-8573-f3e817340379",
   "metadata": {},
   "outputs": [],
   "source": [
    "import pytest\n",
    "import ipytest\n",
    "ipytest.autoconfig()"
   ]
  },
  {
   "cell_type": "code",
   "execution_count": null,
   "id": "1606d74c-2b64-447c-8091-56f1eb47cd92",
   "metadata": {},
   "outputs": [],
   "source": [
    "%%ipytest -v\n",
    "\n",
    "def test_foo_nums():\n",
    "    # Arrange\n",
    "    a, b = 1, 2\n",
    "    expected_nums = 3\n",
    "\n",
    "    # Act\n",
    "    result_nums = foo(a, b)\n",
    "\n",
    "    # Assert\n",
    "    assert expected_nums == result_nums\n",
    "\n",
    "def test_foo_strings():\n",
    "    # Arrange\n",
    "    c, d = 'a', 'b'\n",
    "    expected_strings = 'ab' \n",
    "    \n",
    "    # Act\n",
    "    result_strings = foo(c, d)\n",
    "\n",
    "    # Assert\n",
    "    assert expected_strings == result_strings\n",
    "\n",
    "def test_foo_exceptions():\n",
    "    with pytest.raises(TypeError):\n",
    "        foo(1, 'a')\n",
    "\n",
    "def foo(a,b):\n",
    "    return a + b\n",
    "    "
   ]
  },
  {
   "cell_type": "code",
   "execution_count": null,
   "id": "93a50ef6-4e50-43a0-85bc-29be37e9ef2d",
   "metadata": {},
   "outputs": [],
   "source": []
  }
 ],
 "metadata": {
  "kernelspec": {
   "display_name": "Python 3 (ipykernel)",
   "language": "python",
   "name": "python3"
  },
  "language_info": {
   "codemirror_mode": {
    "name": "ipython",
    "version": 3
   },
   "file_extension": ".py",
   "mimetype": "text/x-python",
   "name": "python",
   "nbconvert_exporter": "python",
   "pygments_lexer": "ipython3",
   "version": "3.11.8"
  }
 },
 "nbformat": 4,
 "nbformat_minor": 5
}
